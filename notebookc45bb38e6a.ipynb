{
  "nbformat": 4,
  "nbformat_minor": 0,
  "metadata": {
    "kernelspec": {
      "language": "python",
      "display_name": "Python 3",
      "name": "python3"
    },
    "language_info": {
      "name": "python",
      "version": "3.7.10",
      "mimetype": "text/x-python",
      "codemirror_mode": {
        "name": "ipython",
        "version": 3
      },
      "pygments_lexer": "ipython3",
      "nbconvert_exporter": "python",
      "file_extension": ".py"
    },
    "colab": {
      "name": "notebookc45bb38e6a.ipynb",
      "provenance": [],
      "include_colab_link": true
    }
  },
  "cells": [
    {
      "cell_type": "markdown",
      "metadata": {
        "id": "view-in-github",
        "colab_type": "text"
      },
      "source": [
        "<a href=\"https://colab.research.google.com/github/Harsh-htx/AI-project--Poker-Game/blob/main/notebookc45bb38e6a.ipynb\" target=\"_parent\"><img src=\"https://colab.research.google.com/assets/colab-badge.svg\" alt=\"Open In Colab\"/></a>"
      ]
    },
    {
      "cell_type": "code",
      "metadata": {
        "execution": {
          "iopub.status.busy": "2021-11-27T07:55:32.154389Z",
          "iopub.execute_input": "2021-11-27T07:55:32.154730Z",
          "iopub.status.idle": "2021-11-27T07:55:32.160989Z",
          "shell.execute_reply.started": "2021-11-27T07:55:32.154696Z",
          "shell.execute_reply": "2021-11-27T07:55:32.160002Z"
        },
        "trusted": true,
        "id": "2YwIOKxTbU09"
      },
      "source": [
        "import pandas as pd\n",
        "import seaborn as sns\n",
        "import matplotlib.pyplot as plt\n",
        "sns.set(style=\"whitegrid\", color_codes=True)"
      ],
      "execution_count": 1,
      "outputs": []
    },
    {
      "cell_type": "code",
      "metadata": {
        "execution": {
          "iopub.status.busy": "2021-11-27T07:55:32.163147Z",
          "iopub.execute_input": "2021-11-27T07:55:32.164066Z",
          "iopub.status.idle": "2021-11-27T07:55:32.547965Z",
          "shell.execute_reply.started": "2021-11-27T07:55:32.164020Z",
          "shell.execute_reply": "2021-11-27T07:55:32.547083Z"
        },
        "trusted": true,
        "id": "izhS4Y_kbU0-"
      },
      "source": [
        "df = pd.read_csv(\"/one_dollar_spin_and_go.csv\")"
      ],
      "execution_count": 2,
      "outputs": []
    },
    {
      "cell_type": "code",
      "metadata": {
        "execution": {
          "iopub.status.busy": "2021-11-27T07:55:32.549319Z",
          "iopub.execute_input": "2021-11-27T07:55:32.549641Z",
          "iopub.status.idle": "2021-11-27T07:55:32.554395Z",
          "shell.execute_reply.started": "2021-11-27T07:55:32.549602Z",
          "shell.execute_reply": "2021-11-27T07:55:32.553434Z"
        },
        "trusted": true,
        "id": "AUL3XxaZbU0_"
      },
      "source": [
        "mylogin = 'fa538846'"
      ],
      "execution_count": 3,
      "outputs": []
    },
    {
      "cell_type": "code",
      "metadata": {
        "execution": {
          "iopub.status.busy": "2021-11-27T07:55:32.555942Z",
          "iopub.execute_input": "2021-11-27T07:55:32.556754Z",
          "iopub.status.idle": "2021-11-27T07:55:32.769937Z",
          "shell.execute_reply.started": "2021-11-27T07:55:32.556709Z",
          "shell.execute_reply": "2021-11-27T07:55:32.769103Z"
        },
        "trusted": true,
        "colab": {
          "base_uri": "https://localhost:8080/",
          "height": 112
        },
        "id": "XosBNR2bbU0_",
        "outputId": "6cbd5c16-0487-424b-ba32-b67a2286cfd0"
      },
      "source": [
        "# Wins and defeats (proportion of games)\n",
        "wd = df.pivot_table(index='tourn_id',columns='name',values='balance',aggfunc='sum')[mylogin]\n",
        "wd = wd.value_counts().rename(index={-500:'defeat',1000:'win'})\n",
        "pd.DataFrame(wd/wd.sum())"
      ],
      "execution_count": 4,
      "outputs": [
        {
          "output_type": "execute_result",
          "data": {
            "text/html": [
              "<div>\n",
              "<style scoped>\n",
              "    .dataframe tbody tr th:only-of-type {\n",
              "        vertical-align: middle;\n",
              "    }\n",
              "\n",
              "    .dataframe tbody tr th {\n",
              "        vertical-align: top;\n",
              "    }\n",
              "\n",
              "    .dataframe thead th {\n",
              "        text-align: right;\n",
              "    }\n",
              "</style>\n",
              "<table border=\"1\" class=\"dataframe\">\n",
              "  <thead>\n",
              "    <tr style=\"text-align: right;\">\n",
              "      <th></th>\n",
              "      <th>fa538846</th>\n",
              "    </tr>\n",
              "  </thead>\n",
              "  <tbody>\n",
              "    <tr>\n",
              "      <th>defeat</th>\n",
              "      <td>0.658188</td>\n",
              "    </tr>\n",
              "    <tr>\n",
              "      <th>win</th>\n",
              "      <td>0.341812</td>\n",
              "    </tr>\n",
              "  </tbody>\n",
              "</table>\n",
              "</div>"
            ],
            "text/plain": [
              "        fa538846\n",
              "defeat  0.658188\n",
              "win     0.341812"
            ]
          },
          "metadata": {},
          "execution_count": 4
        }
      ]
    },
    {
      "cell_type": "code",
      "metadata": {
        "_uuid": "8f2839f25d086af736a60e9eeb907d3b93b6e0e5",
        "_cell_guid": "b1076dfc-b9ad-4769-8c92-a6c4dae69d19",
        "execution": {
          "iopub.status.busy": "2021-11-27T07:55:32.772201Z",
          "iopub.execute_input": "2021-11-27T07:55:32.772913Z",
          "iopub.status.idle": "2021-11-27T07:55:33.133844Z",
          "shell.execute_reply.started": "2021-11-27T07:55:32.772869Z",
          "shell.execute_reply": "2021-11-27T07:55:33.133009Z"
        },
        "trusted": true,
        "colab": {
          "base_uri": "https://localhost:8080/",
          "height": 339
        },
        "id": "Zw2z2SfRbU1A",
        "outputId": "c92f19dd-04ef-43fe-e9b6-e2474c1b512b"
      },
      "source": [
        "# Chips performance per hand\n",
        "(\n",
        "    df.query(\"name == @mylogin\")['balance'].reset_index(drop=True)\n",
        "    .cumsum()\n",
        "    .plot(kind='line',figsize=(10,5),xlabel='hands',ylabel='chips balance',lw=1)\n",
        ");"
      ],
      "execution_count": 5,
      "outputs": [
        {
          "output_type": "display_data",
          "data": {
            "image/png": "[encoded data removed]",
            "text/plain": [
              "<Figure size 720x360 with 1 Axes>"
            ]
          },
          "metadata": {
            "needs_background": "light"
          }
        }
      ]
    },
    {
      "cell_type": "code",
      "metadata": {
        "execution": {
          "iopub.status.busy": "2021-11-27T07:55:33.135275Z",
          "iopub.execute_input": "2021-11-27T07:55:33.136061Z",
          "iopub.status.idle": "2021-11-27T07:55:35.394302Z",
          "shell.execute_reply.started": "2021-11-27T07:55:33.136014Z",
          "shell.execute_reply": "2021-11-27T07:55:35.393404Z"
        },
        "trusted": true,
        "colab": {
          "base_uri": "https://localhost:8080/",
          "height": 393
        },
        "id": "NpQ9tnvPbU1B",
        "outputId": "1a05b0ce-f19c-496d-9207-a7cfad95fc02"
      },
      "source": [
        "# Chips performance per date\n",
        "(\n",
        "    df\n",
        "    .pivot_table(index='date',columns='name',values='balance',aggfunc='sum')[mylogin]\n",
        "    .plot(kind='bar',figsize=(20,5))\n",
        ");"
      ],
      "execution_count": 6,
      "outputs": [
        {
          "output_type": "display_data",
          "data": {
            "image/png": "[encoded data removed]",
            "text/plain": [
              "<Figure size 1440x360 with 1 Axes>"
            ]
          },
          "metadata": {
            "needs_background": "light"
          }
        }
      ]
    },
    {
      "cell_type": "code",
      "metadata": {
        "execution": {
          "iopub.status.busy": "2021-11-27T07:55:35.395961Z",
          "iopub.execute_input": "2021-11-27T07:55:35.396522Z",
          "iopub.status.idle": "2021-11-27T07:55:35.754014Z",
          "shell.execute_reply.started": "2021-11-27T07:55:35.396476Z",
          "shell.execute_reply": "2021-11-27T07:55:35.753361Z"
        },
        "trusted": true,
        "colab": {
          "base_uri": "https://localhost:8080/",
          "height": 341
        },
        "id": "Ae8xWNkrbU1C",
        "outputId": "5a4be852-c7e5-402c-a2e1-eb3d311b964e"
      },
      "source": [
        "# Chips performance per blinds levels\n",
        "(\n",
        "    df\n",
        "    .pivot_table(index='level',columns='name',values='balance',aggfunc='sum')[mylogin]\n",
        "    .plot(kind='bar',figsize=(10,5),color='darkred',rot=0)\n",
        ");"
      ],
      "execution_count": 7,
      "outputs": [
        {
          "output_type": "display_data",
          "data": {
            "image/png": "[encoded data removed]",
            "text/plain": [
              "<Figure size 720x360 with 1 Axes>"
            ]
          },
          "metadata": {
            "needs_background": "light"
          }
        }
      ]
    },
    {
      "cell_type": "code",
      "metadata": {
        "execution": {
          "iopub.status.busy": "2021-11-27T07:55:35.755389Z",
          "iopub.execute_input": "2021-11-27T07:55:35.755886Z",
          "iopub.status.idle": "2021-11-27T07:55:35.860689Z",
          "shell.execute_reply.started": "2021-11-27T07:55:35.755833Z",
          "shell.execute_reply": "2021-11-27T07:55:35.859866Z"
        },
        "trusted": true,
        "id": "ZC9gM9HmbU1C"
      },
      "source": [
        "def clean(x):\n",
        "    return int(x[0:2].replace(':',''))\n",
        "df['hour'] = df['time'].apply(clean)\n",
        "df['day'] = pd.to_datetime(df['date']).dt.dayofweek"
      ],
      "execution_count": 8,
      "outputs": []
    },
    {
      "cell_type": "code",
      "metadata": {
        "execution": {
          "iopub.status.busy": "2021-11-27T07:55:35.862135Z",
          "iopub.execute_input": "2021-11-27T07:55:35.862441Z",
          "iopub.status.idle": "2021-11-27T07:55:36.202187Z",
          "shell.execute_reply.started": "2021-11-27T07:55:35.862399Z",
          "shell.execute_reply": "2021-11-27T07:55:36.201353Z"
        },
        "trusted": true,
        "colab": {
          "base_uri": "https://localhost:8080/",
          "height": 322
        },
        "id": "iQDekFe6bU1D",
        "outputId": "c959b39c-7469-475f-8d51-3c92817fd308"
      },
      "source": [
        "# Chips performance per weekday\n",
        "(\n",
        "    df\n",
        "    .pivot_table(index='day',columns='name',values='balance',aggfunc='sum')[mylogin]\n",
        "    .plot(kind='bar',figsize=(10,5),color='black',xlabel='')\n",
        "    .set_xticklabels(['Mon','Tue','Wed','Thu','Fri','Sat','Sun'],rotation=0)\n",
        ");"
      ],
      "execution_count": 9,
      "outputs": [
        {
          "output_type": "display_data",
          "data": {
            "image/png": "[encoded data removed]",
            "text/plain": [
              "<Figure size 720x360 with 1 Axes>"
            ]
          },
          "metadata": {
            "needs_background": "light"
          }
        }
      ]
    },
    {
      "cell_type": "code",
      "metadata": {
        "execution": {
          "iopub.status.busy": "2021-11-27T07:55:36.204563Z",
          "iopub.execute_input": "2021-11-27T07:55:36.205162Z",
          "iopub.status.idle": "2021-11-27T07:55:36.722855Z",
          "shell.execute_reply.started": "2021-11-27T07:55:36.205117Z",
          "shell.execute_reply": "2021-11-27T07:55:36.722217Z"
        },
        "trusted": true,
        "colab": {
          "base_uri": "https://localhost:8080/",
          "height": 339
        },
        "id": "ole4FUsqbU1D",
        "outputId": "1172f7a4-e45c-4182-c757-49472a19791a"
      },
      "source": [
        "# Chips performance per hour of the day\n",
        "(\n",
        "    df\n",
        "    .pivot_table(index='hour',columns='name',values='balance',aggfunc='sum')[mylogin]\n",
        "    .plot(kind='bar',figsize=(20,5),color='darkblue',rot=0)\n",
        ");"
      ],
      "execution_count": 10,
      "outputs": [
        {
          "output_type": "display_data",
          "data": {
            "image/png": "[encoded data removed]",
            "text/plain": [
              "<Figure size 1440x360 with 1 Axes>"
            ]
          },
          "metadata": {
            "needs_background": "light"
          }
        }
      ]
    },
    {
      "cell_type": "code",
      "metadata": {
        "execution": {
          "iopub.status.busy": "2021-11-27T07:55:36.724412Z",
          "iopub.execute_input": "2021-11-27T07:55:36.724981Z",
          "iopub.status.idle": "2021-11-27T07:55:37.226371Z",
          "shell.execute_reply.started": "2021-11-27T07:55:36.724938Z",
          "shell.execute_reply": "2021-11-27T07:55:37.225491Z"
        },
        "trusted": true,
        "colab": {
          "base_uri": "https://localhost:8080/",
          "height": 558
        },
        "id": "uwyZW1X1bU1E",
        "outputId": "41af4bdc-9c26-4745-eeb7-672ada492d41"
      },
      "source": [
        "# Chips performance per weekday and hour of the day\n",
        "plt.subplots(figsize=(5,9))\n",
        "sns.heatmap(\n",
        "    df\n",
        "    .query(\"name == @mylogin\")\n",
        "    .pivot_table(index='hour',columns='day',values='balance',aggfunc='sum')\n",
        "    .rename({0:'Mon',1:'Tue',2:'Wed',3:'Thu',4:'Fri',5:'Sat',6:'Sun'}, axis='columns'),\n",
        "    cmap='RdYlGn'\n",
        ");"
      ],
      "execution_count": 11,
      "outputs": [
        {
          "output_type": "display_data",
          "data": {
            "image/png": "[encoded data removed]",
            "text/plain": [
              "<Figure size 360x648 with 2 Axes>"
            ]
          },
          "metadata": {
            "needs_background": "light"
          }
        }
      ]
    },
    {
      "cell_type": "markdown",
      "metadata": {
        "id": "pw9nhY-CbU1F"
      },
      "source": [
        ""
      ]
    },
    {
      "cell_type": "code",
      "metadata": {
        "execution": {
          "iopub.status.busy": "2021-11-27T07:55:37.228127Z",
          "iopub.execute_input": "2021-11-27T07:55:37.228710Z",
          "iopub.status.idle": "2021-11-27T07:55:37.710022Z",
          "shell.execute_reply.started": "2021-11-27T07:55:37.228665Z",
          "shell.execute_reply": "2021-11-27T07:55:37.709074Z"
        },
        "trusted": true,
        "colab": {
          "base_uri": "https://localhost:8080/"
        },
        "id": "c7lS4fPibU1G",
        "outputId": "d056822c-268e-4650-87a0-3b0d43851f07"
      },
      "source": [
        "# Chips performance per cards combinations and blinds levels\n",
        "def cardslevel(x):\n",
        "    for asc,bw in zip([False,True],['BEST','WORST']):\n",
        "        dfcards = (\n",
        "            df\n",
        "            .query(\"level == @x\")\n",
        "            .pivot_table(index='combination',columns='name',values='balance',aggfunc='sum')[mylogin]\n",
        "            .sort_values(ascending=asc)[0:5]\n",
        "            .dropna()\n",
        "        )\n",
        "        print('-'*36,f'\\n {bw} FIVE HANDS\\n','-'*36,sep='')\n",
        "        for i,j in zip(dfcards.index,dfcards.values):\n",
        "            print(i,f'%{35-len(i)}s' % str(int(j)))\n",
        "    if asc: print('-'*36)\n",
        "for i in range(1,7):\n",
        "    print(f'\\n\\nLEVEL {i}:')\n",
        "    cardslevel(i)"
      ],
      "execution_count": 12,
      "outputs": [
        {
          "output_type": "stream",
          "name": "stdout",
          "text": [
            "\n",
            "\n",
            "LEVEL 1:\n",
            "------------------------------------\n",
            " BEST FIVE HANDS\n",
            "------------------------------------\n",
            "a pair of Kings                10728\n",
            "a pair of Aces                  9871\n",
            "a flush, Ace high               8483\n",
            "a straight, Ten to Ace          5658\n",
            "a flush, King high              5566\n",
            "------------------------------------\n",
            " WORST FIVE HANDS\n",
            "------------------------------------\n",
            "high card Ace                 -21072\n",
            "high card King                 -7641\n",
            "a pair of Threes               -5376\n",
            "a pair of Sevens               -5055\n",
            "a pair of Fives                -4463\n",
            "------------------------------------\n",
            "\n",
            "\n",
            "LEVEL 2:\n",
            "------------------------------------\n",
            " BEST FIVE HANDS\n",
            "------------------------------------\n",
            "a flush, Ace high               8503\n",
            "a pair of Aces                  7178\n",
            "a flush, King high              6879\n",
            "a straight, Nine to King        4928\n",
            "a straight, Ten to Ace          4175\n",
            "------------------------------------\n",
            " WORST FIVE HANDS\n",
            "------------------------------------\n",
            "high card Ace                 -20469\n",
            "high card King                 -9967\n",
            "a pair of Sixes                -5481\n",
            "a pair of Nines                -4366\n",
            "a pair of Fours                -3961\n",
            "------------------------------------\n",
            "\n",
            "\n",
            "LEVEL 3:\n",
            "------------------------------------\n",
            " BEST FIVE HANDS\n",
            "------------------------------------\n",
            "a pair of Aces                  7124\n",
            "a flush, Ace high               5879\n",
            "a flush, King high              4640\n",
            "a straight, Nine to King        4089\n",
            "three of a kind, Tens           3370\n",
            "------------------------------------\n",
            " WORST FIVE HANDS\n",
            "------------------------------------\n",
            "high card Ace                 -18363\n",
            "high card King                 -9660\n",
            "a pair of Nines                -6053\n",
            "a pair of Sixes                -5336\n",
            "a pair of Threes               -3814\n",
            "------------------------------------\n",
            "\n",
            "\n",
            "LEVEL 4:\n",
            "------------------------------------\n",
            " BEST FIVE HANDS\n",
            "------------------------------------\n",
            "a pair of Jacks                 5550\n",
            "a flush, King high              4437\n",
            "a flush, Ace high               2783\n",
            "three of a kind, Aces           2740\n",
            "two pair, Queens and Fours      2395\n",
            "------------------------------------\n",
            " WORST FIVE HANDS\n",
            "------------------------------------\n",
            "high card Ace                 -17113\n",
            "high card King                 -7274\n",
            "a pair of Aces                 -5017\n",
            "a pair of Deuces               -4525\n",
            "a pair of Threes               -4450\n",
            "------------------------------------\n",
            "\n",
            "\n",
            "LEVEL 5:\n",
            "------------------------------------\n",
            " BEST FIVE HANDS\n",
            "------------------------------------\n",
            "a pair of Tens                  1671\n",
            "two pair, Aces and Kings        1555\n",
            "a pair of Aces                  1436\n",
            "a flush, King high              1385\n",
            "two pair, Aces and Sevens       1359\n",
            "------------------------------------\n",
            " WORST FIVE HANDS\n",
            "------------------------------------\n",
            "high card Ace                 -10711\n",
            "high card King                 -3501\n",
            "a pair of Sevens               -3021\n",
            "a pair of Queens               -2906\n",
            "a pair of Sixes                -2176\n",
            "------------------------------------\n",
            "\n",
            "\n",
            "LEVEL 6:\n",
            "------------------------------------\n",
            " BEST FIVE HANDS\n",
            "------------------------------------\n",
            "three of a kind, Threes         1290\n",
            "a pair of Queens                1188\n",
            "two pair, Kings and Fives        920\n",
            "a pair of Tens                   888\n",
            "a straight, Ten to Ace           825\n",
            "------------------------------------\n",
            " WORST FIVE HANDS\n",
            "------------------------------------\n",
            "high card Ace                  -2654\n",
            "a pair of Kings                -2045\n",
            "high card King                 -1870\n",
            "a pair of Sevens               -1670\n",
            "a pair of Eights               -1450\n",
            "------------------------------------\n"
          ]
        }
      ]
    },
    {
      "cell_type": "code",
      "metadata": {
        "id": "2QR9T7JzbU1H"
      },
      "source": [
        ""
      ],
      "execution_count": 12,
      "outputs": []
    }
  ]
}